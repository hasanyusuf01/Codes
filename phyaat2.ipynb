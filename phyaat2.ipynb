{
  "nbformat": 4,
  "nbformat_minor": 0,
  "metadata": {
    "colab": {
      "provenance": [],
      "authorship_tag": "ABX9TyMMPy6L9I9+TtQgID1fDzAD",
      "include_colab_link": true
    },
    "kernelspec": {
      "name": "python3",
      "display_name": "Python 3"
    },
    "language_info": {
      "name": "python"
    },
    "accelerator": "GPU",
    "gpuClass": "standard"
  },
  "cells": [
    {
      "cell_type": "markdown",
      "metadata": {
        "id": "view-in-github",
        "colab_type": "text"
      },
      "source": [
        "<a href=\"https://colab.research.google.com/github/hasanyusuf01/Codes/blob/main/phyaat2.ipynb\" target=\"_parent\"><img src=\"https://colab.research.google.com/assets/colab-badge.svg\" alt=\"Open In Colab\"/></a>"
      ]
    },
    {
      "cell_type": "code",
      "source": [
        "pip install phyaat"
      ],
      "metadata": {
        "colab": {
          "base_uri": "https://localhost:8080/"
        },
        "id": "d3rOuP2oB5tw",
        "outputId": "a5909739-9a45-4df9-926f-b1027e9daf79"
      },
      "execution_count": null,
      "outputs": [
        {
          "output_type": "stream",
          "name": "stdout",
          "text": [
            "Looking in indexes: https://pypi.org/simple, https://us-python.pkg.dev/colab-wheels/public/simple/\n",
            "Requirement already satisfied: phyaat in /usr/local/lib/python3.9/dist-packages (0.0.3)\n",
            "Requirement already satisfied: scipy in /usr/local/lib/python3.9/dist-packages (from phyaat) (1.10.1)\n",
            "Requirement already satisfied: numpy in /usr/local/lib/python3.9/dist-packages (from phyaat) (1.22.4)\n",
            "Requirement already satisfied: matplotlib in /usr/local/lib/python3.9/dist-packages (from phyaat) (3.7.1)\n",
            "Requirement already satisfied: spkit in /usr/local/lib/python3.9/dist-packages (from phyaat) (0.0.9.6)\n",
            "Requirement already satisfied: python-dateutil>=2.7 in /usr/local/lib/python3.9/dist-packages (from matplotlib->phyaat) (2.8.2)\n",
            "Requirement already satisfied: contourpy>=1.0.1 in /usr/local/lib/python3.9/dist-packages (from matplotlib->phyaat) (1.0.7)\n",
            "Requirement already satisfied: pyparsing>=2.3.1 in /usr/local/lib/python3.9/dist-packages (from matplotlib->phyaat) (3.0.9)\n",
            "Requirement already satisfied: cycler>=0.10 in /usr/local/lib/python3.9/dist-packages (from matplotlib->phyaat) (0.11.0)\n",
            "Requirement already satisfied: kiwisolver>=1.0.1 in /usr/local/lib/python3.9/dist-packages (from matplotlib->phyaat) (1.4.4)\n",
            "Requirement already satisfied: packaging>=20.0 in /usr/local/lib/python3.9/dist-packages (from matplotlib->phyaat) (23.0)\n",
            "Requirement already satisfied: pillow>=6.2.0 in /usr/local/lib/python3.9/dist-packages (from matplotlib->phyaat) (8.4.0)\n",
            "Requirement already satisfied: importlib-resources>=3.2.0 in /usr/local/lib/python3.9/dist-packages (from matplotlib->phyaat) (5.12.0)\n",
            "Requirement already satisfied: fonttools>=4.22.0 in /usr/local/lib/python3.9/dist-packages (from matplotlib->phyaat) (4.39.3)\n",
            "Requirement already satisfied: pylfsr in /usr/local/lib/python3.9/dist-packages (from spkit->phyaat) (1.0.7)\n",
            "Requirement already satisfied: joblib in /usr/local/lib/python3.9/dist-packages (from spkit->phyaat) (1.2.0)\n",
            "Requirement already satisfied: seaborn in /usr/local/lib/python3.9/dist-packages (from spkit->phyaat) (0.12.2)\n",
            "Requirement already satisfied: scikit-learn in /usr/local/lib/python3.9/dist-packages (from spkit->phyaat) (1.2.2)\n",
            "Requirement already satisfied: h5py in /usr/local/lib/python3.9/dist-packages (from spkit->phyaat) (3.8.0)\n",
            "Requirement already satisfied: PyWavelets in /usr/local/lib/python3.9/dist-packages (from spkit->phyaat) (1.4.1)\n",
            "Requirement already satisfied: pandas in /usr/local/lib/python3.9/dist-packages (from spkit->phyaat) (1.5.3)\n",
            "Requirement already satisfied: python-picard in /usr/local/lib/python3.9/dist-packages (from spkit->phyaat) (0.7)\n",
            "Requirement already satisfied: zipp>=3.1.0 in /usr/local/lib/python3.9/dist-packages (from importlib-resources>=3.2.0->matplotlib->phyaat) (3.15.0)\n",
            "Requirement already satisfied: six>=1.5 in /usr/local/lib/python3.9/dist-packages (from python-dateutil>=2.7->matplotlib->phyaat) (1.16.0)\n",
            "Requirement already satisfied: pytz>=2020.1 in /usr/local/lib/python3.9/dist-packages (from pandas->spkit->phyaat) (2022.7.1)\n",
            "Requirement already satisfied: numexpr in /usr/local/lib/python3.9/dist-packages (from python-picard->spkit->phyaat) (2.8.4)\n",
            "Requirement already satisfied: threadpoolctl>=2.0.0 in /usr/local/lib/python3.9/dist-packages (from scikit-learn->spkit->phyaat) (3.1.0)\n"
          ]
        }
      ]
    },
    {
      "cell_type": "code",
      "source": [
        "import numpy as np\n",
        "import pandas as pd\n",
        "import matplotlib.pyplot as plt\n",
        "from sklearn import svm\n",
        "\n",
        "#!pip install phyaat  # if not installed yet\n",
        "import phyaat\n",
        "print('Version :' ,phyaat.__version__)\n",
        "import phyaat as ph"
      ],
      "metadata": {
        "colab": {
          "base_uri": "https://localhost:8080/"
        },
        "id": "HH2iC8ekFBJ7",
        "outputId": "5a7e8d22-99cb-45dc-dfa4-c6420b0d127b"
      },
      "execution_count": null,
      "outputs": [
        {
          "output_type": "stream",
          "name": "stdout",
          "text": [
            "Version : 0.0.3\n"
          ]
        }
      ]
    },
    {
      "cell_type": "code",
      "source": [
        "# Download dataset of one subject only (subject=1)\n",
        "# To download data of all the subjects use subject =-1 or for specify for one e.g.subject=10\n",
        "\n",
        "dirPath = ph.download_data(baseDir='../PhyAAt_Data', subject=1,verbose=0,overwrite=False)\n",
        "\n",
        "baseDir='../PhyAAt_Data'   # or dirPath return path from above\n",
        "\n",
        "#returns a dictionary containing file names of all the subjects available in baseDir\n",
        "SubID = ph.ReadFilesPath(baseDir)\n",
        "\n",
        "#check files of subject=1\n",
        "print(SubID[1])\n",
        "\n",
        " # Create a Subj holding dataset of subject=1\n",
        "Subj = ph.Subject(SubID[1])\n",
        "\n",
        "\n",
        "#filtering with highpass filter of cutoff frequency 0.5Hz\n",
        "Subj.filter_EEG(band =[0.5],btype='highpass',order=5)"
      ],
      "metadata": {
        "colab": {
          "base_uri": "https://localhost:8080/"
        },
        "id": "x-dQsy3kFFTB",
        "outputId": "a717fd69-dbb0-4e2a-be16-6072431ffdc2"
      },
      "execution_count": null,
      "outputs": [
        {
          "output_type": "stream",
          "name": "stdout",
          "text": [
            "Total Subjects :  1\n",
            "{'sigFile': '../PhyAAt_Data/phyaat_dataset/Signals/S1/S1_Signals.csv', 'txtFile': '../PhyAAt_Data/phyaat_dataset/Signals/S1/S1_Textscore.csv'}\n"
          ]
        }
      ]
    },
    {
      "cell_type": "code",
      "source": [
        "# Extract Rhythmic features for task=4\n",
        "X_train,y_train,X_test, y_test = Subj.getXy_eeg(task=4)\n",
        "\n",
        "\n",
        "print('DataShape: ',X_train.shape,y_train.shape,X_test.shape, y_test.shape)\n",
        "print('\\nClass labels :',np.unique(y_train))\n",
        "\n",
        "# Normalization - SVM works well with normalized features\n",
        "\n"
      ],
      "metadata": {
        "colab": {
          "base_uri": "https://localhost:8080/"
        },
        "id": "xyis6oFuFNdq",
        "outputId": "cc0a40fb-caf3-4428-cbe6-ca35a2323a34"
      },
      "execution_count": null,
      "outputs": [
        {
          "output_type": "stream",
          "name": "stdout",
          "text": [
            "\n",
            "\n",
            "\n",
            "\n",
            "\n",
            "\n",
            "DataShape:  (290, 84) (290,) (120, 84) (120,)\n",
            "\n",
            "Class labels : [0 1 2]\n"
          ]
        }
      ]
    },
    {
      "cell_type": "code",
      "source": [
        "y_train"
      ],
      "metadata": {
        "colab": {
          "base_uri": "https://localhost:8080/"
        },
        "id": "8LTL17v69dRA",
        "outputId": "4a53ad27-109f-4c76-f58e-52c4aed52308"
      },
      "execution_count": null,
      "outputs": [
        {
          "output_type": "execute_result",
          "data": {
            "text/plain": [
              "array([0, 0, 0, 0, 0, 0, 0, 0, 0, 0, 0, 0, 0, 0, 0, 0, 0, 0, 0, 0, 0, 0,\n",
              "       0, 0, 0, 0, 0, 0, 0, 0, 0, 0, 0, 0, 0, 0, 0, 0, 0, 0, 0, 0, 0, 0,\n",
              "       0, 0, 0, 0, 0, 0, 0, 0, 0, 0, 0, 0, 0, 0, 0, 0, 0, 0, 0, 0, 0, 0,\n",
              "       0, 0, 0, 0, 0, 0, 0, 0, 0, 0, 0, 0, 0, 0, 0, 0, 0, 0, 0, 0, 0, 0,\n",
              "       0, 0, 0, 0, 0, 0, 0, 0, 0, 0, 0, 0, 1, 1, 1, 1, 1, 1, 1, 1, 1, 1,\n",
              "       1, 1, 1, 1, 1, 1, 1, 1, 1, 1, 1, 1, 1, 1, 1, 1, 1, 1, 1, 1, 1, 1,\n",
              "       1, 1, 1, 1, 1, 1, 1, 1, 1, 1, 1, 1, 1, 1, 1, 1, 1, 1, 1, 1, 1, 1,\n",
              "       1, 1, 1, 1, 1, 1, 1, 1, 1, 1, 1, 1, 1, 1, 1, 1, 1, 1, 1, 1, 1, 1,\n",
              "       1, 1, 1, 1, 1, 1, 1, 1, 1, 1, 1, 1, 1, 1, 1, 1, 1, 1, 1, 1, 1, 1,\n",
              "       1, 1, 2, 2, 2, 2, 2, 2, 2, 2, 2, 2, 2, 2, 2, 2, 2, 2, 2, 2, 2, 2,\n",
              "       2, 2, 2, 2, 2, 2, 2, 2, 2, 2, 2, 2, 2, 2, 2, 2, 2, 2, 2, 2, 2, 2,\n",
              "       2, 2, 2, 2, 2, 2, 2, 2, 2, 2, 2, 2, 2, 2, 2, 2, 2, 2, 2, 2, 2, 2,\n",
              "       2, 2, 2, 2, 2, 2, 2, 2, 2, 2, 2, 2, 2, 2, 2, 2, 2, 2, 2, 2, 2, 2,\n",
              "       2, 2, 2, 2])"
            ]
          },
          "metadata": {},
          "execution_count": 19
        }
      ]
    },
    {
      "cell_type": "code",
      "source": [
        "X_train"
      ],
      "metadata": {
        "colab": {
          "base_uri": "https://localhost:8080/"
        },
        "id": "x-YRWU3WDd6O",
        "outputId": "53a771f2-20e0-4188-96f9-3b46d0a134d5"
      },
      "execution_count": null,
      "outputs": [
        {
          "output_type": "execute_result",
          "data": {
            "text/plain": [
              "array([[2.49485493, 2.12746824, 1.60700632, ..., 0.05104358, 0.03586729,\n",
              "        0.0353022 ],\n",
              "       [2.65408715, 2.26533739, 1.96172614, ..., 0.03362956, 0.03442574,\n",
              "        0.03756099],\n",
              "       [2.52234749, 2.59840008, 2.17089983, ..., 0.09018123, 0.0568996 ,\n",
              "        0.059435  ],\n",
              "       ...,\n",
              "       [1.84866726, 1.74081858, 1.0978413 , ..., 0.00316687, 0.01839323,\n",
              "        0.01688799],\n",
              "       [1.24819335, 1.15641392, 0.65469111, ..., 0.01273232, 0.02964069,\n",
              "        0.01696939],\n",
              "       [0.16094742, 0.12859839, 0.05236514, ..., 0.00931242, 0.02606447,\n",
              "        0.01410056]])"
            ]
          },
          "metadata": {},
          "execution_count": 20
        }
      ]
    },
    {
      "cell_type": "code",
      "source": [
        "means = X_train.mean(0)\n",
        "std   = X_train.std(0)\n",
        "X_train = (X_train-means)/std\n",
        "X_test  = (X_test-means)/std"
      ],
      "metadata": {
        "id": "baW4VQePHF66"
      },
      "execution_count": null,
      "outputs": []
    },
    {
      "cell_type": "code",
      "source": [
        "X_train"
      ],
      "metadata": {
        "colab": {
          "base_uri": "https://localhost:8080/"
        },
        "id": "0eBFQNIuH3bU",
        "outputId": "f2ec56fd-f5f5-4097-f4b2-aa0529ba3281"
      },
      "execution_count": null,
      "outputs": [
        {
          "output_type": "execute_result",
          "data": {
            "text/plain": [
              "array([[ 4.75730274e-01,  2.37394777e-01, -1.96838685e-03, ...,\n",
              "         1.02065680e+00, -4.11479922e-01, -4.51019101e-01],\n",
              "       [ 6.97314122e-01,  4.38910979e-01,  5.44568868e-01, ...,\n",
              "         2.01942674e-01, -4.75264404e-01, -3.65072298e-01],\n",
              "       [ 5.13988285e-01,  9.25731481e-01,  8.66854809e-01, ...,\n",
              "         2.86070017e+00,  5.19137438e-01,  4.67231529e-01],\n",
              "       ...,\n",
              "       [-4.23489424e-01, -3.27751035e-01, -7.86468252e-01, ...,\n",
              "        -1.23025018e+00, -1.18465520e+00, -1.15167826e+00],\n",
              "       [-1.25909493e+00, -1.18194511e+00, -1.46925527e+00, ...,\n",
              "        -7.80533711e-01, -6.86988580e-01, -1.14858101e+00],\n",
              "       [-2.77208104e+00, -2.68424991e+00, -2.39729357e+00, ...,\n",
              "        -9.41319385e-01, -8.45225420e-01, -1.25773949e+00]])"
            ]
          },
          "metadata": {},
          "execution_count": 22
        }
      ]
    },
    {
      "cell_type": "code",
      "source": [
        "y_test"
      ],
      "metadata": {
        "colab": {
          "base_uri": "https://localhost:8080/"
        },
        "id": "IyzB_TWLMKKc",
        "outputId": "7400757d-3cce-49ba-f2d1-0665e1da4de4"
      },
      "execution_count": null,
      "outputs": [
        {
          "output_type": "execute_result",
          "data": {
            "text/plain": [
              "array([0, 0, 0, 0, 0, 0, 0, 0, 0, 0, 0, 0, 0, 0, 0, 0, 0, 0, 0, 0, 0, 0,\n",
              "       0, 0, 0, 0, 0, 0, 0, 0, 0, 0, 0, 0, 0, 0, 0, 0, 0, 0, 0, 0, 0, 1,\n",
              "       1, 1, 1, 1, 1, 1, 1, 1, 1, 1, 1, 1, 1, 1, 1, 1, 1, 1, 1, 1, 1, 1,\n",
              "       1, 1, 1, 1, 1, 1, 1, 1, 1, 1, 1, 1, 1, 1, 1, 1, 1, 1, 1, 1, 2, 2,\n",
              "       2, 2, 2, 2, 2, 2, 2, 2, 2, 2, 2, 2, 2, 2, 2, 2, 2, 2, 2, 2, 2, 2,\n",
              "       2, 2, 2, 2, 2, 2, 2, 2, 2, 2])"
            ]
          },
          "metadata": {},
          "execution_count": 26
        }
      ]
    },
    {
      "cell_type": "code",
      "source": [
        "\n",
        "# Training\n",
        "clf = svm.SVC(kernel='rbf', C=1,gamma='auto')\n",
        "clf.fit(X_train,y_train)\n",
        "\n",
        "# Predition\n",
        "ytp = clf.predict(X_train)\n",
        "ysp = clf.predict(X_test)\n",
        "\n",
        "# Evaluation\n",
        "\n",
        "print('Training Accuracy:',np.mean(y_train==ytp))\n",
        "print('Testing  Accuracy:',np.mean(y_test==ysp))\n"
      ],
      "metadata": {
        "colab": {
          "base_uri": "https://localhost:8080/"
        },
        "id": "N8FkemeUFcT_",
        "outputId": "35ded084-481c-4312-a221-1b1867811d30"
      },
      "execution_count": null,
      "outputs": [
        {
          "output_type": "stream",
          "name": "stdout",
          "text": [
            "Training Accuracy: 0.9310344827586207\n",
            "Testing  Accuracy: 0.8666666666666667\n"
          ]
        }
      ]
    },
    {
      "cell_type": "code",
      "source": [],
      "metadata": {
        "id": "qkrENrfpEJC6"
      },
      "execution_count": null,
      "outputs": []
    }
  ]
}