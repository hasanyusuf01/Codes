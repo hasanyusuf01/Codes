{
  "nbformat": 4,
  "nbformat_minor": 0,
  "metadata": {
    "colab": {
      "provenance": [],
      "authorship_tag": "ABX9TyMHV6yYr1JrRv7ljytI1DPq",
      "include_colab_link": true
    },
    "kernelspec": {
      "name": "python3",
      "display_name": "Python 3"
    },
    "language_info": {
      "name": "python"
    },
    "accelerator": "GPU",
    "gpuClass": "standard"
  },
  "cells": [
    {
      "cell_type": "markdown",
      "metadata": {
        "id": "view-in-github",
        "colab_type": "text"
      },
      "source": [
        "<a href=\"https://colab.research.google.com/github/hasanyusuf01/Codes/blob/main/intensity_transform.ipynb\" target=\"_parent\"><img src=\"https://colab.research.google.com/assets/colab-badge.svg\" alt=\"Open In Colab\"/></a>"
      ]
    },
    {
      "cell_type": "code",
      "execution_count": 5,
      "metadata": {
        "colab": {
          "base_uri": "https://localhost:8080/"
        },
        "id": "_B59FpvsBKj7",
        "outputId": "72ef6d11-40de-4385-a312-c409736eb3a7"
      },
      "outputs": [
        {
          "output_type": "stream",
          "name": "stderr",
          "text": [
            "<ipython-input-5-f39a73b6150b>:10: RuntimeWarning: divide by zero encountered in log\n",
            "  log_transformed = c * np.log(1 + img)\n"
          ]
        },
        {
          "output_type": "execute_result",
          "data": {
            "text/plain": [
              "True"
            ]
          },
          "metadata": {},
          "execution_count": 5
        }
      ],
      "source": [
        "#@title log transform to make image bright\n",
        "import cv2\n",
        "import numpy as np\n",
        "\n",
        "# Open the image.\n",
        "img = cv2.imread('/content/sample.jpeg')\n",
        "\n",
        "# Apply log transform.\n",
        "c = 255/(np.log(1 + np.max(img)))\n",
        "log_transformed = c * np.log(1 + img)\n",
        "\n",
        "# Specify the data type.\n",
        "log_transformed = np.array(log_transformed, dtype = np.uint8)\n",
        "\n",
        "# Save the output.\n",
        "cv2.imwrite('log_transformed.jpg', log_transformed)\n"
      ]
    },
    {
      "cell_type": "code",
      "source": [
        "#@title gama transform \n",
        "\n",
        "# Open the image.\n",
        "img = cv2.imread('/content/sample2.jpeg')\n",
        "\n",
        "# Trying 4 gamma values.\n",
        "for gamma in [0.1, 0.5, 1.2, 2.2]:\n",
        "\t\n",
        "\t# Apply gamma correction.\n",
        "\tgamma_corrected = np.array(255*(img / 255) ** gamma, dtype = 'uint8')\n",
        "\n",
        "\t# Save edited images.\n",
        "\tcv2.imwrite('gamma_transformed'+str(gamma)+'.jpg', gamma_corrected)\n"
      ],
      "metadata": {
        "id": "TbH5418sCflk"
      },
      "execution_count": 7,
      "outputs": []
    },
    {
      "cell_type": "code",
      "source": [
        "#@title sharpening image \n",
        "\n",
        "\n",
        "# Load the input image\n",
        "image = cv2.imread('/content/gamma_transformed2.2.jpg')\n",
        "\n",
        "# Create the sharpening kernel\n",
        "kernel = np.array([[0,-1,0], [-1,5,-1], [0,-1,0]])\n",
        "\n",
        "# Apply the sharpening kernel to the image using filter2D\n",
        "sharpened = cv2.filter2D(image, -1, kernel)\n",
        "\n",
        "# Save the output image\n",
        "cv2.imwrite('sharpened.jpg', sharpened)"
      ],
      "metadata": {
        "colab": {
          "base_uri": "https://localhost:8080/"
        },
        "id": "TmhAphRgDwVh",
        "outputId": "7fb3bcda-688a-4b30-e9ac-08b84d644bb8"
      },
      "execution_count": 11,
      "outputs": [
        {
          "output_type": "execute_result",
          "data": {
            "text/plain": [
              "True"
            ]
          },
          "metadata": {},
          "execution_count": 11
        }
      ]
    },
    {
      "cell_type": "code",
      "source": [],
      "metadata": {
        "id": "0Eo978VXG-lG"
      },
      "execution_count": null,
      "outputs": []
    }
  ]
}