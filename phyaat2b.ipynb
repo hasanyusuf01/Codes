{
  "nbformat": 4,
  "nbformat_minor": 0,
  "metadata": {
    "colab": {
      "provenance": [],
      "authorship_tag": "ABX9TyP6xX6f1dQI1giqHv3Dalhu",
      "include_colab_link": true
    },
    "kernelspec": {
      "name": "python3",
      "display_name": "Python 3"
    },
    "language_info": {
      "name": "python"
    }
  },
  "cells": [
    {
      "cell_type": "markdown",
      "metadata": {
        "id": "view-in-github",
        "colab_type": "text"
      },
      "source": [
        "<a href=\"https://colab.research.google.com/github/hasanyusuf01/Codes/blob/main/phyaat2b.ipynb\" target=\"_parent\"><img src=\"https://colab.research.google.com/assets/colab-badge.svg\" alt=\"Open In Colab\"/></a>"
      ]
    },
    {
      "cell_type": "code",
      "execution_count": 2,
      "metadata": {
        "colab": {
          "base_uri": "https://localhost:8080/"
        },
        "id": "yShnMpndTFFt",
        "outputId": "f9370713-7b2a-4cad-ee32-4ab5b14b8578"
      },
      "outputs": [
        {
          "output_type": "stream",
          "name": "stdout",
          "text": [
            "Looking in indexes: https://pypi.org/simple, https://us-python.pkg.dev/colab-wheels/public/simple/\n",
            "Requirement already satisfied: phyaat in /usr/local/lib/python3.9/dist-packages (0.0.3)\n",
            "Requirement already satisfied: scipy in /usr/local/lib/python3.9/dist-packages (from phyaat) (1.10.1)\n",
            "Requirement already satisfied: matplotlib in /usr/local/lib/python3.9/dist-packages (from phyaat) (3.7.1)\n",
            "Requirement already satisfied: numpy in /usr/local/lib/python3.9/dist-packages (from phyaat) (1.22.4)\n",
            "Requirement already satisfied: spkit in /usr/local/lib/python3.9/dist-packages (from phyaat) (0.0.9.6)\n",
            "Requirement already satisfied: cycler>=0.10 in /usr/local/lib/python3.9/dist-packages (from matplotlib->phyaat) (0.11.0)\n",
            "Requirement already satisfied: kiwisolver>=1.0.1 in /usr/local/lib/python3.9/dist-packages (from matplotlib->phyaat) (1.4.4)\n",
            "Requirement already satisfied: pyparsing>=2.3.1 in /usr/local/lib/python3.9/dist-packages (from matplotlib->phyaat) (3.0.9)\n",
            "Requirement already satisfied: packaging>=20.0 in /usr/local/lib/python3.9/dist-packages (from matplotlib->phyaat) (23.0)\n",
            "Requirement already satisfied: importlib-resources>=3.2.0 in /usr/local/lib/python3.9/dist-packages (from matplotlib->phyaat) (5.12.0)\n",
            "Requirement already satisfied: pillow>=6.2.0 in /usr/local/lib/python3.9/dist-packages (from matplotlib->phyaat) (8.4.0)\n",
            "Requirement already satisfied: fonttools>=4.22.0 in /usr/local/lib/python3.9/dist-packages (from matplotlib->phyaat) (4.39.3)\n",
            "Requirement already satisfied: contourpy>=1.0.1 in /usr/local/lib/python3.9/dist-packages (from matplotlib->phyaat) (1.0.7)\n",
            "Requirement already satisfied: python-dateutil>=2.7 in /usr/local/lib/python3.9/dist-packages (from matplotlib->phyaat) (2.8.2)\n",
            "Requirement already satisfied: pylfsr in /usr/local/lib/python3.9/dist-packages (from spkit->phyaat) (1.0.7)\n",
            "Requirement already satisfied: PyWavelets in /usr/local/lib/python3.9/dist-packages (from spkit->phyaat) (1.4.1)\n",
            "Requirement already satisfied: python-picard in /usr/local/lib/python3.9/dist-packages (from spkit->phyaat) (0.7)\n",
            "Requirement already satisfied: joblib in /usr/local/lib/python3.9/dist-packages (from spkit->phyaat) (1.2.0)\n",
            "Requirement already satisfied: pandas in /usr/local/lib/python3.9/dist-packages (from spkit->phyaat) (1.5.3)\n",
            "Requirement already satisfied: seaborn in /usr/local/lib/python3.9/dist-packages (from spkit->phyaat) (0.12.2)\n",
            "Requirement already satisfied: scikit-learn in /usr/local/lib/python3.9/dist-packages (from spkit->phyaat) (1.2.2)\n",
            "Requirement already satisfied: h5py in /usr/local/lib/python3.9/dist-packages (from spkit->phyaat) (3.8.0)\n",
            "Requirement already satisfied: zipp>=3.1.0 in /usr/local/lib/python3.9/dist-packages (from importlib-resources>=3.2.0->matplotlib->phyaat) (3.15.0)\n",
            "Requirement already satisfied: six>=1.5 in /usr/local/lib/python3.9/dist-packages (from python-dateutil>=2.7->matplotlib->phyaat) (1.16.0)\n",
            "Requirement already satisfied: pytz>=2020.1 in /usr/local/lib/python3.9/dist-packages (from pandas->spkit->phyaat) (2022.7.1)\n",
            "Requirement already satisfied: numexpr in /usr/local/lib/python3.9/dist-packages (from python-picard->spkit->phyaat) (2.8.4)\n",
            "Requirement already satisfied: threadpoolctl>=2.0.0 in /usr/local/lib/python3.9/dist-packages (from scikit-learn->spkit->phyaat) (3.1.0)\n"
          ]
        }
      ],
      "source": [
        "pip install phyaat"
      ]
    },
    {
      "cell_type": "code",
      "source": [
        "import numpy as np\n",
        "import pandas as pd\n",
        "import matplotlib.pyplot as plt\n",
        "from sklearn import svm\n",
        "\n",
        "#!pip install phyaat  # if not installed yet\n",
        "import phyaat\n",
        "print('Version :' ,phyaat.__version__)\n",
        "import phyaat as ph"
      ],
      "metadata": {
        "colab": {
          "base_uri": "https://localhost:8080/"
        },
        "id": "v8YFaRx9URCD",
        "outputId": "ceb7adfc-ee46-4bc2-91ca-f87a60ddd0bc"
      },
      "execution_count": 3,
      "outputs": [
        {
          "output_type": "stream",
          "name": "stdout",
          "text": [
            "Version : 0.0.3\n"
          ]
        }
      ]
    },
    {
      "cell_type": "code",
      "source": [
        "# Download dataset of one subject only (subject=1)\n",
        "# To download data of all the subjects use subject =-1 or for specify for one e.g.subject=10\n",
        "\n",
        "dirPath = ph.download_data(baseDir='../PhyAAt_Data', subject=1,verbose=0,overwrite=False)\n",
        "\n",
        "baseDir='../PhyAAt_Data'   # or dirPath return path from above\n",
        "\n",
        "#returns a dictionary containing file names of all the subjects available in baseDir\n",
        "SubID = ph.ReadFilesPath(baseDir)\n",
        "\n",
        "#check files of subject=1\n",
        "print(SubID[1])\n",
        "\n",
        " # Create a Subj holding dataset of subject=1\n",
        "Subj = ph.Subject(SubID[1])\n",
        "\n",
        "\n",
        "#filtering with highpass filter of cutoff frequency 0.5Hz\n",
        "Subj.filter_EEG(band =[0.5],btype='highpass',order=5)"
      ],
      "metadata": {
        "colab": {
          "base_uri": "https://localhost:8080/"
        },
        "id": "IDmnHf9XUSCV",
        "outputId": "42557162-d9af-4811-e92d-e4589f67efd9"
      },
      "execution_count": 4,
      "outputs": [
        {
          "output_type": "stream",
          "name": "stdout",
          "text": [
            "Total Subjects :  1\n",
            "{'sigFile': '../PhyAAt_Data/phyaat_dataset/Signals/S1/S1_Signals.csv', 'txtFile': '../PhyAAt_Data/phyaat_dataset/Signals/S1/S1_Textscore.csv'}\n"
          ]
        }
      ]
    },
    {
      "cell_type": "code",
      "source": [
        "# Extract Rhythmic features for task=4\n",
        "X_train,y_train,X_test, y_test = Subj.getXy_eeg(task=4)\n",
        "\n",
        "\n",
        "print('DataShape: ',X_train.shape,y_train.shape,X_test.shape, y_test.shape)\n",
        "print('\\nClass labels :',np.unique(y_train))\n",
        "\n",
        "# Normalization - SVM works well with normalized features\n",
        "\n"
      ],
      "metadata": {
        "colab": {
          "base_uri": "https://localhost:8080/"
        },
        "id": "8f94HDO6Ua8s",
        "outputId": "90f966bd-1bf0-4667-f9f2-7f557cd2fa49"
      },
      "execution_count": 5,
      "outputs": [
        {
          "output_type": "stream",
          "name": "stdout",
          "text": [
            "\n",
            "\n",
            "\n",
            "\n",
            "\n",
            "\n",
            "DataShape:  (290, 84) (290,) (120, 84) (120,)\n",
            "\n",
            "Class labels : [0 1 2]\n"
          ]
        }
      ]
    },
    {
      "cell_type": "code",
      "source": [
        "means = X_train.mean(0)\n",
        "std   = X_train.std(0)\n",
        "X_train = (X_train-means)/std\n",
        "X_test  = (X_test-means)/std"
      ],
      "metadata": {
        "id": "kFSuCTdeUfMI"
      },
      "execution_count": 6,
      "outputs": []
    },
    {
      "cell_type": "code",
      "source": [
        "from sklearn.ensemble import RandomForestClassifier"
      ],
      "metadata": {
        "id": "uJ8ZQtI0T0Ou"
      },
      "execution_count": 7,
      "outputs": []
    },
    {
      "cell_type": "code",
      "source": [
        "# creating a RF classifier\n",
        "clf = RandomForestClassifier(n_estimators = 100)\n",
        "\n",
        "# Training the model on the training dataset\n",
        "# fit function is used to train the model using the training sets as parameters\n",
        "clf.fit(X_train, y_train)\n",
        "\n",
        "# performing predictions on the test dataset\n",
        "y_pred = clf.predict(X_test)\n",
        "\n",
        "\n",
        "# metrics are used to find accuracy or error\n",
        "from sklearn import metrics\n",
        "print()\n",
        "\n",
        "# using metrics module for accuracy calculation\n",
        "print(\"Testing ACCURACY OF THE MODEL: \", metrics.accuracy_score(y_test, y_pred))"
      ],
      "metadata": {
        "colab": {
          "base_uri": "https://localhost:8080/"
        },
        "id": "EnAH5e3zVIv4",
        "outputId": "251beb08-9dba-42c3-fa6b-7f7714ff7a07"
      },
      "execution_count": 13,
      "outputs": [
        {
          "output_type": "stream",
          "name": "stdout",
          "text": [
            "\n",
            "Testing ACCURACY OF THE MODEL:  0.9583333333333334\n"
          ]
        }
      ]
    },
    {
      "cell_type": "code",
      "source": [],
      "metadata": {
        "id": "mKyTD4TmW1UV"
      },
      "execution_count": null,
      "outputs": []
    }
  ]
}